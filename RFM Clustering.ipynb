{
 "cells": [
  {
   "cell_type": "markdown",
   "id": "1eb3e00e-5c49-4be1-97dc-e15f04a5e1be",
   "metadata": {
    "jp-MarkdownHeadingCollapsed": true
   },
   "source": [
    "## online_retail_II (K--Mean--Clustring)\n",
    "## RFM (Recency,Frequency and Montetary) Clustering Dataset Project Date 28-Feb-2025"
   ]
  },
  {
   "cell_type": "markdown",
   "id": "06bc59b6-d2ce-4bd5-9b20-efcf4b494073",
   "metadata": {},
   "source": [
    "## 1. Importing Necessary Libarary"
   ]
  },
  {
   "cell_type": "code",
   "execution_count": 1,
   "id": "6fe6d29c-c1e9-46e5-8bcb-a9af587f639e",
   "metadata": {},
   "outputs": [],
   "source": [
    "import pandas as pd \n",
    "import numpy as np\n",
    "import matplotlib.pyplot as plt\n",
    "import seaborn as sns\n",
    "import warnings\n",
    "warnings.filterwarnings(\"ignore\")"
   ]
  },
  {
   "cell_type": "markdown",
   "id": "46ee0249-a9a1-478a-91e0-8ddee32dfde1",
   "metadata": {},
   "source": [
    "## 2.Importing Dataset"
   ]
  },
  {
   "cell_type": "code",
   "execution_count": 3,
   "id": "9db673ef-dd0e-4437-b1dc-42d5a8e99f6b",
   "metadata": {},
   "outputs": [],
   "source": [
    "df = pd.read_excel(r'C:\\Users\\DELL\\Downloads\\online_retail_II.xlsx')"
   ]
  },
  {
   "cell_type": "code",
   "execution_count": 5,
   "id": "4d0b0a04-0315-4341-aa7f-b5b936798c1f",
   "metadata": {},
   "outputs": [
    {
     "data": {
      "text/html": [
       "<div>\n",
       "<style scoped>\n",
       "    .dataframe tbody tr th:only-of-type {\n",
       "        vertical-align: middle;\n",
       "    }\n",
       "\n",
       "    .dataframe tbody tr th {\n",
       "        vertical-align: top;\n",
       "    }\n",
       "\n",
       "    .dataframe thead th {\n",
       "        text-align: right;\n",
       "    }\n",
       "</style>\n",
       "<table border=\"1\" class=\"dataframe\">\n",
       "  <thead>\n",
       "    <tr style=\"text-align: right;\">\n",
       "      <th></th>\n",
       "      <th>Invoice</th>\n",
       "      <th>StockCode</th>\n",
       "      <th>Description</th>\n",
       "      <th>Quantity</th>\n",
       "      <th>InvoiceDate</th>\n",
       "      <th>Price</th>\n",
       "      <th>Customer ID</th>\n",
       "      <th>Country</th>\n",
       "    </tr>\n",
       "  </thead>\n",
       "  <tbody>\n",
       "    <tr>\n",
       "      <th>0</th>\n",
       "      <td>489434</td>\n",
       "      <td>85048</td>\n",
       "      <td>15CM CHRISTMAS GLASS BALL 20 LIGHTS</td>\n",
       "      <td>12</td>\n",
       "      <td>2009-12-01 07:45:00</td>\n",
       "      <td>6.95</td>\n",
       "      <td>13085.0</td>\n",
       "      <td>United Kingdom</td>\n",
       "    </tr>\n",
       "    <tr>\n",
       "      <th>1</th>\n",
       "      <td>489434</td>\n",
       "      <td>79323P</td>\n",
       "      <td>PINK CHERRY LIGHTS</td>\n",
       "      <td>12</td>\n",
       "      <td>2009-12-01 07:45:00</td>\n",
       "      <td>6.75</td>\n",
       "      <td>13085.0</td>\n",
       "      <td>United Kingdom</td>\n",
       "    </tr>\n",
       "    <tr>\n",
       "      <th>2</th>\n",
       "      <td>489434</td>\n",
       "      <td>79323W</td>\n",
       "      <td>WHITE CHERRY LIGHTS</td>\n",
       "      <td>12</td>\n",
       "      <td>2009-12-01 07:45:00</td>\n",
       "      <td>6.75</td>\n",
       "      <td>13085.0</td>\n",
       "      <td>United Kingdom</td>\n",
       "    </tr>\n",
       "    <tr>\n",
       "      <th>3</th>\n",
       "      <td>489434</td>\n",
       "      <td>22041</td>\n",
       "      <td>RECORD FRAME 7\" SINGLE SIZE</td>\n",
       "      <td>48</td>\n",
       "      <td>2009-12-01 07:45:00</td>\n",
       "      <td>2.10</td>\n",
       "      <td>13085.0</td>\n",
       "      <td>United Kingdom</td>\n",
       "    </tr>\n",
       "    <tr>\n",
       "      <th>4</th>\n",
       "      <td>489434</td>\n",
       "      <td>21232</td>\n",
       "      <td>STRAWBERRY CERAMIC TRINKET BOX</td>\n",
       "      <td>24</td>\n",
       "      <td>2009-12-01 07:45:00</td>\n",
       "      <td>1.25</td>\n",
       "      <td>13085.0</td>\n",
       "      <td>United Kingdom</td>\n",
       "    </tr>\n",
       "    <tr>\n",
       "      <th>...</th>\n",
       "      <td>...</td>\n",
       "      <td>...</td>\n",
       "      <td>...</td>\n",
       "      <td>...</td>\n",
       "      <td>...</td>\n",
       "      <td>...</td>\n",
       "      <td>...</td>\n",
       "      <td>...</td>\n",
       "    </tr>\n",
       "    <tr>\n",
       "      <th>525456</th>\n",
       "      <td>538171</td>\n",
       "      <td>22271</td>\n",
       "      <td>FELTCRAFT DOLL ROSIE</td>\n",
       "      <td>2</td>\n",
       "      <td>2010-12-09 20:01:00</td>\n",
       "      <td>2.95</td>\n",
       "      <td>17530.0</td>\n",
       "      <td>United Kingdom</td>\n",
       "    </tr>\n",
       "    <tr>\n",
       "      <th>525457</th>\n",
       "      <td>538171</td>\n",
       "      <td>22750</td>\n",
       "      <td>FELTCRAFT PRINCESS LOLA DOLL</td>\n",
       "      <td>1</td>\n",
       "      <td>2010-12-09 20:01:00</td>\n",
       "      <td>3.75</td>\n",
       "      <td>17530.0</td>\n",
       "      <td>United Kingdom</td>\n",
       "    </tr>\n",
       "    <tr>\n",
       "      <th>525458</th>\n",
       "      <td>538171</td>\n",
       "      <td>22751</td>\n",
       "      <td>FELTCRAFT PRINCESS OLIVIA DOLL</td>\n",
       "      <td>1</td>\n",
       "      <td>2010-12-09 20:01:00</td>\n",
       "      <td>3.75</td>\n",
       "      <td>17530.0</td>\n",
       "      <td>United Kingdom</td>\n",
       "    </tr>\n",
       "    <tr>\n",
       "      <th>525459</th>\n",
       "      <td>538171</td>\n",
       "      <td>20970</td>\n",
       "      <td>PINK FLORAL FELTCRAFT SHOULDER BAG</td>\n",
       "      <td>2</td>\n",
       "      <td>2010-12-09 20:01:00</td>\n",
       "      <td>3.75</td>\n",
       "      <td>17530.0</td>\n",
       "      <td>United Kingdom</td>\n",
       "    </tr>\n",
       "    <tr>\n",
       "      <th>525460</th>\n",
       "      <td>538171</td>\n",
       "      <td>21931</td>\n",
       "      <td>JUMBO STORAGE BAG SUKI</td>\n",
       "      <td>2</td>\n",
       "      <td>2010-12-09 20:01:00</td>\n",
       "      <td>1.95</td>\n",
       "      <td>17530.0</td>\n",
       "      <td>United Kingdom</td>\n",
       "    </tr>\n",
       "  </tbody>\n",
       "</table>\n",
       "<p>525461 rows × 8 columns</p>\n",
       "</div>"
      ],
      "text/plain": [
       "       Invoice StockCode                          Description  Quantity  \\\n",
       "0       489434     85048  15CM CHRISTMAS GLASS BALL 20 LIGHTS        12   \n",
       "1       489434    79323P                   PINK CHERRY LIGHTS        12   \n",
       "2       489434    79323W                  WHITE CHERRY LIGHTS        12   \n",
       "3       489434     22041         RECORD FRAME 7\" SINGLE SIZE         48   \n",
       "4       489434     21232       STRAWBERRY CERAMIC TRINKET BOX        24   \n",
       "...        ...       ...                                  ...       ...   \n",
       "525456  538171     22271                 FELTCRAFT DOLL ROSIE         2   \n",
       "525457  538171     22750         FELTCRAFT PRINCESS LOLA DOLL         1   \n",
       "525458  538171     22751       FELTCRAFT PRINCESS OLIVIA DOLL         1   \n",
       "525459  538171     20970   PINK FLORAL FELTCRAFT SHOULDER BAG         2   \n",
       "525460  538171     21931               JUMBO STORAGE BAG SUKI         2   \n",
       "\n",
       "               InvoiceDate  Price  Customer ID         Country  \n",
       "0      2009-12-01 07:45:00   6.95      13085.0  United Kingdom  \n",
       "1      2009-12-01 07:45:00   6.75      13085.0  United Kingdom  \n",
       "2      2009-12-01 07:45:00   6.75      13085.0  United Kingdom  \n",
       "3      2009-12-01 07:45:00   2.10      13085.0  United Kingdom  \n",
       "4      2009-12-01 07:45:00   1.25      13085.0  United Kingdom  \n",
       "...                    ...    ...          ...             ...  \n",
       "525456 2010-12-09 20:01:00   2.95      17530.0  United Kingdom  \n",
       "525457 2010-12-09 20:01:00   3.75      17530.0  United Kingdom  \n",
       "525458 2010-12-09 20:01:00   3.75      17530.0  United Kingdom  \n",
       "525459 2010-12-09 20:01:00   3.75      17530.0  United Kingdom  \n",
       "525460 2010-12-09 20:01:00   1.95      17530.0  United Kingdom  \n",
       "\n",
       "[525461 rows x 8 columns]"
      ]
     },
     "execution_count": 5,
     "metadata": {},
     "output_type": "execute_result"
    }
   ],
   "source": [
    "df"
   ]
  },
  {
   "cell_type": "markdown",
   "id": "8d7e56ea-eb3b-405b-af31-8234de9da455",
   "metadata": {},
   "source": [
    "## 3(a). Data Inspection"
   ]
  },
  {
   "cell_type": "markdown",
   "id": "92f1771b-f818-41f2-9565-987999e098c5",
   "metadata": {},
   "source": [
    "### (b). Cheak Rows (Top and Bottom)"
   ]
  },
  {
   "cell_type": "code",
   "execution_count": 10,
   "id": "479b7448-648f-4929-b08c-1a4870a9a5de",
   "metadata": {},
   "outputs": [
    {
     "data": {
      "text/html": [
       "<div>\n",
       "<style scoped>\n",
       "    .dataframe tbody tr th:only-of-type {\n",
       "        vertical-align: middle;\n",
       "    }\n",
       "\n",
       "    .dataframe tbody tr th {\n",
       "        vertical-align: top;\n",
       "    }\n",
       "\n",
       "    .dataframe thead th {\n",
       "        text-align: right;\n",
       "    }\n",
       "</style>\n",
       "<table border=\"1\" class=\"dataframe\">\n",
       "  <thead>\n",
       "    <tr style=\"text-align: right;\">\n",
       "      <th></th>\n",
       "      <th>Invoice</th>\n",
       "      <th>StockCode</th>\n",
       "      <th>Description</th>\n",
       "      <th>Quantity</th>\n",
       "      <th>InvoiceDate</th>\n",
       "      <th>Price</th>\n",
       "      <th>Customer ID</th>\n",
       "      <th>Country</th>\n",
       "    </tr>\n",
       "  </thead>\n",
       "  <tbody>\n",
       "    <tr>\n",
       "      <th>0</th>\n",
       "      <td>489434</td>\n",
       "      <td>85048</td>\n",
       "      <td>15CM CHRISTMAS GLASS BALL 20 LIGHTS</td>\n",
       "      <td>12</td>\n",
       "      <td>2009-12-01 07:45:00</td>\n",
       "      <td>6.95</td>\n",
       "      <td>13085.0</td>\n",
       "      <td>United Kingdom</td>\n",
       "    </tr>\n",
       "    <tr>\n",
       "      <th>1</th>\n",
       "      <td>489434</td>\n",
       "      <td>79323P</td>\n",
       "      <td>PINK CHERRY LIGHTS</td>\n",
       "      <td>12</td>\n",
       "      <td>2009-12-01 07:45:00</td>\n",
       "      <td>6.75</td>\n",
       "      <td>13085.0</td>\n",
       "      <td>United Kingdom</td>\n",
       "    </tr>\n",
       "    <tr>\n",
       "      <th>2</th>\n",
       "      <td>489434</td>\n",
       "      <td>79323W</td>\n",
       "      <td>WHITE CHERRY LIGHTS</td>\n",
       "      <td>12</td>\n",
       "      <td>2009-12-01 07:45:00</td>\n",
       "      <td>6.75</td>\n",
       "      <td>13085.0</td>\n",
       "      <td>United Kingdom</td>\n",
       "    </tr>\n",
       "    <tr>\n",
       "      <th>3</th>\n",
       "      <td>489434</td>\n",
       "      <td>22041</td>\n",
       "      <td>RECORD FRAME 7\" SINGLE SIZE</td>\n",
       "      <td>48</td>\n",
       "      <td>2009-12-01 07:45:00</td>\n",
       "      <td>2.10</td>\n",
       "      <td>13085.0</td>\n",
       "      <td>United Kingdom</td>\n",
       "    </tr>\n",
       "    <tr>\n",
       "      <th>4</th>\n",
       "      <td>489434</td>\n",
       "      <td>21232</td>\n",
       "      <td>STRAWBERRY CERAMIC TRINKET BOX</td>\n",
       "      <td>24</td>\n",
       "      <td>2009-12-01 07:45:00</td>\n",
       "      <td>1.25</td>\n",
       "      <td>13085.0</td>\n",
       "      <td>United Kingdom</td>\n",
       "    </tr>\n",
       "  </tbody>\n",
       "</table>\n",
       "</div>"
      ],
      "text/plain": [
       "  Invoice StockCode                          Description  Quantity  \\\n",
       "0  489434     85048  15CM CHRISTMAS GLASS BALL 20 LIGHTS        12   \n",
       "1  489434    79323P                   PINK CHERRY LIGHTS        12   \n",
       "2  489434    79323W                  WHITE CHERRY LIGHTS        12   \n",
       "3  489434     22041         RECORD FRAME 7\" SINGLE SIZE         48   \n",
       "4  489434     21232       STRAWBERRY CERAMIC TRINKET BOX        24   \n",
       "\n",
       "          InvoiceDate  Price  Customer ID         Country  \n",
       "0 2009-12-01 07:45:00   6.95      13085.0  United Kingdom  \n",
       "1 2009-12-01 07:45:00   6.75      13085.0  United Kingdom  \n",
       "2 2009-12-01 07:45:00   6.75      13085.0  United Kingdom  \n",
       "3 2009-12-01 07:45:00   2.10      13085.0  United Kingdom  \n",
       "4 2009-12-01 07:45:00   1.25      13085.0  United Kingdom  "
      ]
     },
     "execution_count": 10,
     "metadata": {},
     "output_type": "execute_result"
    }
   ],
   "source": [
    "df.head()"
   ]
  },
  {
   "cell_type": "code",
   "execution_count": 12,
   "id": "2c3ede15-4141-49ce-93dd-7d0f4f003d55",
   "metadata": {},
   "outputs": [
    {
     "data": {
      "text/html": [
       "<div>\n",
       "<style scoped>\n",
       "    .dataframe tbody tr th:only-of-type {\n",
       "        vertical-align: middle;\n",
       "    }\n",
       "\n",
       "    .dataframe tbody tr th {\n",
       "        vertical-align: top;\n",
       "    }\n",
       "\n",
       "    .dataframe thead th {\n",
       "        text-align: right;\n",
       "    }\n",
       "</style>\n",
       "<table border=\"1\" class=\"dataframe\">\n",
       "  <thead>\n",
       "    <tr style=\"text-align: right;\">\n",
       "      <th></th>\n",
       "      <th>Invoice</th>\n",
       "      <th>StockCode</th>\n",
       "      <th>Description</th>\n",
       "      <th>Quantity</th>\n",
       "      <th>InvoiceDate</th>\n",
       "      <th>Price</th>\n",
       "      <th>Customer ID</th>\n",
       "      <th>Country</th>\n",
       "    </tr>\n",
       "  </thead>\n",
       "  <tbody>\n",
       "    <tr>\n",
       "      <th>525456</th>\n",
       "      <td>538171</td>\n",
       "      <td>22271</td>\n",
       "      <td>FELTCRAFT DOLL ROSIE</td>\n",
       "      <td>2</td>\n",
       "      <td>2010-12-09 20:01:00</td>\n",
       "      <td>2.95</td>\n",
       "      <td>17530.0</td>\n",
       "      <td>United Kingdom</td>\n",
       "    </tr>\n",
       "    <tr>\n",
       "      <th>525457</th>\n",
       "      <td>538171</td>\n",
       "      <td>22750</td>\n",
       "      <td>FELTCRAFT PRINCESS LOLA DOLL</td>\n",
       "      <td>1</td>\n",
       "      <td>2010-12-09 20:01:00</td>\n",
       "      <td>3.75</td>\n",
       "      <td>17530.0</td>\n",
       "      <td>United Kingdom</td>\n",
       "    </tr>\n",
       "    <tr>\n",
       "      <th>525458</th>\n",
       "      <td>538171</td>\n",
       "      <td>22751</td>\n",
       "      <td>FELTCRAFT PRINCESS OLIVIA DOLL</td>\n",
       "      <td>1</td>\n",
       "      <td>2010-12-09 20:01:00</td>\n",
       "      <td>3.75</td>\n",
       "      <td>17530.0</td>\n",
       "      <td>United Kingdom</td>\n",
       "    </tr>\n",
       "    <tr>\n",
       "      <th>525459</th>\n",
       "      <td>538171</td>\n",
       "      <td>20970</td>\n",
       "      <td>PINK FLORAL FELTCRAFT SHOULDER BAG</td>\n",
       "      <td>2</td>\n",
       "      <td>2010-12-09 20:01:00</td>\n",
       "      <td>3.75</td>\n",
       "      <td>17530.0</td>\n",
       "      <td>United Kingdom</td>\n",
       "    </tr>\n",
       "    <tr>\n",
       "      <th>525460</th>\n",
       "      <td>538171</td>\n",
       "      <td>21931</td>\n",
       "      <td>JUMBO STORAGE BAG SUKI</td>\n",
       "      <td>2</td>\n",
       "      <td>2010-12-09 20:01:00</td>\n",
       "      <td>1.95</td>\n",
       "      <td>17530.0</td>\n",
       "      <td>United Kingdom</td>\n",
       "    </tr>\n",
       "  </tbody>\n",
       "</table>\n",
       "</div>"
      ],
      "text/plain": [
       "       Invoice StockCode                         Description  Quantity  \\\n",
       "525456  538171     22271                FELTCRAFT DOLL ROSIE         2   \n",
       "525457  538171     22750        FELTCRAFT PRINCESS LOLA DOLL         1   \n",
       "525458  538171     22751      FELTCRAFT PRINCESS OLIVIA DOLL         1   \n",
       "525459  538171     20970  PINK FLORAL FELTCRAFT SHOULDER BAG         2   \n",
       "525460  538171     21931              JUMBO STORAGE BAG SUKI         2   \n",
       "\n",
       "               InvoiceDate  Price  Customer ID         Country  \n",
       "525456 2010-12-09 20:01:00   2.95      17530.0  United Kingdom  \n",
       "525457 2010-12-09 20:01:00   3.75      17530.0  United Kingdom  \n",
       "525458 2010-12-09 20:01:00   3.75      17530.0  United Kingdom  \n",
       "525459 2010-12-09 20:01:00   3.75      17530.0  United Kingdom  \n",
       "525460 2010-12-09 20:01:00   1.95      17530.0  United Kingdom  "
      ]
     },
     "execution_count": 12,
     "metadata": {},
     "output_type": "execute_result"
    }
   ],
   "source": [
    "df.tail()"
   ]
  },
  {
   "cell_type": "code",
   "execution_count": 14,
   "id": "c8652c0e-ca51-4a27-8748-6d7674db6082",
   "metadata": {},
   "outputs": [
    {
     "data": {
      "text/plain": [
       "(525461, 8)"
      ]
     },
     "execution_count": 14,
     "metadata": {},
     "output_type": "execute_result"
    }
   ],
   "source": [
    "df.shape"
   ]
  },
  {
   "cell_type": "code",
   "execution_count": 16,
   "id": "b6a1272b-ea2f-4665-94fe-4285ec8d1643",
   "metadata": {},
   "outputs": [
    {
     "data": {
      "text/plain": [
       "Index(['Invoice', 'StockCode', 'Description', 'Quantity', 'InvoiceDate',\n",
       "       'Price', 'Customer ID', 'Country'],\n",
       "      dtype='object')"
      ]
     },
     "execution_count": 16,
     "metadata": {},
     "output_type": "execute_result"
    }
   ],
   "source": [
    "df.columns"
   ]
  },
  {
   "cell_type": "code",
   "execution_count": 18,
   "id": "46e31957-9116-4b5c-ae91-77cd2595489b",
   "metadata": {},
   "outputs": [
    {
     "data": {
      "text/plain": [
       "525461"
      ]
     },
     "execution_count": 18,
     "metadata": {},
     "output_type": "execute_result"
    }
   ],
   "source": [
    "len(df)"
   ]
  },
  {
   "cell_type": "markdown",
   "id": "610294a1-82a0-49b3-b7f2-a5d32ee97e09",
   "metadata": {},
   "source": [
    "### (e).cheak Descriptive Stats (Describe)"
   ]
  },
  {
   "cell_type": "code",
   "execution_count": 21,
   "id": "af8d9eef-a6f1-4bfb-b7b5-cfff2abd0fad",
   "metadata": {},
   "outputs": [
    {
     "data": {
      "text/html": [
       "<div>\n",
       "<style scoped>\n",
       "    .dataframe tbody tr th:only-of-type {\n",
       "        vertical-align: middle;\n",
       "    }\n",
       "\n",
       "    .dataframe tbody tr th {\n",
       "        vertical-align: top;\n",
       "    }\n",
       "\n",
       "    .dataframe thead th {\n",
       "        text-align: right;\n",
       "    }\n",
       "</style>\n",
       "<table border=\"1\" class=\"dataframe\">\n",
       "  <thead>\n",
       "    <tr style=\"text-align: right;\">\n",
       "      <th></th>\n",
       "      <th>Quantity</th>\n",
       "      <th>InvoiceDate</th>\n",
       "      <th>Price</th>\n",
       "      <th>Customer ID</th>\n",
       "    </tr>\n",
       "  </thead>\n",
       "  <tbody>\n",
       "    <tr>\n",
       "      <th>count</th>\n",
       "      <td>525461.000000</td>\n",
       "      <td>525461</td>\n",
       "      <td>525461.000000</td>\n",
       "      <td>417534.000000</td>\n",
       "    </tr>\n",
       "    <tr>\n",
       "      <th>mean</th>\n",
       "      <td>10.337667</td>\n",
       "      <td>2010-06-28 11:37:36.845017856</td>\n",
       "      <td>4.688834</td>\n",
       "      <td>15360.645478</td>\n",
       "    </tr>\n",
       "    <tr>\n",
       "      <th>min</th>\n",
       "      <td>-9600.000000</td>\n",
       "      <td>2009-12-01 07:45:00</td>\n",
       "      <td>-53594.360000</td>\n",
       "      <td>12346.000000</td>\n",
       "    </tr>\n",
       "    <tr>\n",
       "      <th>25%</th>\n",
       "      <td>1.000000</td>\n",
       "      <td>2010-03-21 12:20:00</td>\n",
       "      <td>1.250000</td>\n",
       "      <td>13983.000000</td>\n",
       "    </tr>\n",
       "    <tr>\n",
       "      <th>50%</th>\n",
       "      <td>3.000000</td>\n",
       "      <td>2010-07-06 09:51:00</td>\n",
       "      <td>2.100000</td>\n",
       "      <td>15311.000000</td>\n",
       "    </tr>\n",
       "    <tr>\n",
       "      <th>75%</th>\n",
       "      <td>10.000000</td>\n",
       "      <td>2010-10-15 12:45:00</td>\n",
       "      <td>4.210000</td>\n",
       "      <td>16799.000000</td>\n",
       "    </tr>\n",
       "    <tr>\n",
       "      <th>max</th>\n",
       "      <td>19152.000000</td>\n",
       "      <td>2010-12-09 20:01:00</td>\n",
       "      <td>25111.090000</td>\n",
       "      <td>18287.000000</td>\n",
       "    </tr>\n",
       "    <tr>\n",
       "      <th>std</th>\n",
       "      <td>107.424110</td>\n",
       "      <td>NaN</td>\n",
       "      <td>146.126914</td>\n",
       "      <td>1680.811316</td>\n",
       "    </tr>\n",
       "  </tbody>\n",
       "</table>\n",
       "</div>"
      ],
      "text/plain": [
       "            Quantity                    InvoiceDate          Price  \\\n",
       "count  525461.000000                         525461  525461.000000   \n",
       "mean       10.337667  2010-06-28 11:37:36.845017856       4.688834   \n",
       "min     -9600.000000            2009-12-01 07:45:00  -53594.360000   \n",
       "25%         1.000000            2010-03-21 12:20:00       1.250000   \n",
       "50%         3.000000            2010-07-06 09:51:00       2.100000   \n",
       "75%        10.000000            2010-10-15 12:45:00       4.210000   \n",
       "max     19152.000000            2010-12-09 20:01:00   25111.090000   \n",
       "std       107.424110                            NaN     146.126914   \n",
       "\n",
       "         Customer ID  \n",
       "count  417534.000000  \n",
       "mean    15360.645478  \n",
       "min     12346.000000  \n",
       "25%     13983.000000  \n",
       "50%     15311.000000  \n",
       "75%     16799.000000  \n",
       "max     18287.000000  \n",
       "std      1680.811316  "
      ]
     },
     "execution_count": 21,
     "metadata": {},
     "output_type": "execute_result"
    }
   ],
   "source": [
    "df.describe () "
   ]
  },
  {
   "cell_type": "code",
   "execution_count": 23,
   "id": "bff8ddf2-6707-44bd-a058-98b4eef0b56b",
   "metadata": {},
   "outputs": [
    {
     "name": "stdout",
     "output_type": "stream",
     "text": [
      "<class 'pandas.core.frame.DataFrame'>\n",
      "RangeIndex: 525461 entries, 0 to 525460\n",
      "Data columns (total 8 columns):\n",
      " #   Column       Non-Null Count   Dtype         \n",
      "---  ------       --------------   -----         \n",
      " 0   Invoice      525461 non-null  object        \n",
      " 1   StockCode    525461 non-null  object        \n",
      " 2   Description  522533 non-null  object        \n",
      " 3   Quantity     525461 non-null  int64         \n",
      " 4   InvoiceDate  525461 non-null  datetime64[ns]\n",
      " 5   Price        525461 non-null  float64       \n",
      " 6   Customer ID  417534 non-null  float64       \n",
      " 7   Country      525461 non-null  object        \n",
      "dtypes: datetime64[ns](1), float64(2), int64(1), object(4)\n",
      "memory usage: 32.1+ MB\n"
     ]
    }
   ],
   "source": [
    "df.info()"
   ]
  },
  {
   "cell_type": "code",
   "execution_count": 25,
   "id": "b45701b8-1bc0-4b0d-a03e-26ca7923f7b0",
   "metadata": {},
   "outputs": [
    {
     "data": {
      "text/plain": [
       "Invoice             0\n",
       "StockCode           0\n",
       "Description      2928\n",
       "Quantity            0\n",
       "InvoiceDate         0\n",
       "Price               0\n",
       "Customer ID    107927\n",
       "Country             0\n",
       "dtype: int64"
      ]
     },
     "execution_count": 25,
     "metadata": {},
     "output_type": "execute_result"
    }
   ],
   "source": [
    "df.isnull().sum()"
   ]
  },
  {
   "cell_type": "code",
   "execution_count": 27,
   "id": "daf79601-29d5-40b8-bb28-9f71e6479371",
   "metadata": {},
   "outputs": [],
   "source": [
    "df1 = df.drop(['Invoice','StockCode','Country','Description'],axis=1,inplace=True)"
   ]
  },
  {
   "cell_type": "code",
   "execution_count": 29,
   "id": "4530e0b8-4742-48b8-bdb3-705102981968",
   "metadata": {
    "scrolled": true
   },
   "outputs": [
    {
     "data": {
      "text/html": [
       "<div>\n",
       "<style scoped>\n",
       "    .dataframe tbody tr th:only-of-type {\n",
       "        vertical-align: middle;\n",
       "    }\n",
       "\n",
       "    .dataframe tbody tr th {\n",
       "        vertical-align: top;\n",
       "    }\n",
       "\n",
       "    .dataframe thead th {\n",
       "        text-align: right;\n",
       "    }\n",
       "</style>\n",
       "<table border=\"1\" class=\"dataframe\">\n",
       "  <thead>\n",
       "    <tr style=\"text-align: right;\">\n",
       "      <th></th>\n",
       "      <th>Quantity</th>\n",
       "      <th>InvoiceDate</th>\n",
       "      <th>Price</th>\n",
       "      <th>Customer ID</th>\n",
       "    </tr>\n",
       "  </thead>\n",
       "  <tbody>\n",
       "    <tr>\n",
       "      <th>0</th>\n",
       "      <td>12</td>\n",
       "      <td>2009-12-01 07:45:00</td>\n",
       "      <td>6.95</td>\n",
       "      <td>13085.0</td>\n",
       "    </tr>\n",
       "    <tr>\n",
       "      <th>1</th>\n",
       "      <td>12</td>\n",
       "      <td>2009-12-01 07:45:00</td>\n",
       "      <td>6.75</td>\n",
       "      <td>13085.0</td>\n",
       "    </tr>\n",
       "    <tr>\n",
       "      <th>2</th>\n",
       "      <td>12</td>\n",
       "      <td>2009-12-01 07:45:00</td>\n",
       "      <td>6.75</td>\n",
       "      <td>13085.0</td>\n",
       "    </tr>\n",
       "    <tr>\n",
       "      <th>3</th>\n",
       "      <td>48</td>\n",
       "      <td>2009-12-01 07:45:00</td>\n",
       "      <td>2.10</td>\n",
       "      <td>13085.0</td>\n",
       "    </tr>\n",
       "    <tr>\n",
       "      <th>4</th>\n",
       "      <td>24</td>\n",
       "      <td>2009-12-01 07:45:00</td>\n",
       "      <td>1.25</td>\n",
       "      <td>13085.0</td>\n",
       "    </tr>\n",
       "    <tr>\n",
       "      <th>...</th>\n",
       "      <td>...</td>\n",
       "      <td>...</td>\n",
       "      <td>...</td>\n",
       "      <td>...</td>\n",
       "    </tr>\n",
       "    <tr>\n",
       "      <th>525456</th>\n",
       "      <td>2</td>\n",
       "      <td>2010-12-09 20:01:00</td>\n",
       "      <td>2.95</td>\n",
       "      <td>17530.0</td>\n",
       "    </tr>\n",
       "    <tr>\n",
       "      <th>525457</th>\n",
       "      <td>1</td>\n",
       "      <td>2010-12-09 20:01:00</td>\n",
       "      <td>3.75</td>\n",
       "      <td>17530.0</td>\n",
       "    </tr>\n",
       "    <tr>\n",
       "      <th>525458</th>\n",
       "      <td>1</td>\n",
       "      <td>2010-12-09 20:01:00</td>\n",
       "      <td>3.75</td>\n",
       "      <td>17530.0</td>\n",
       "    </tr>\n",
       "    <tr>\n",
       "      <th>525459</th>\n",
       "      <td>2</td>\n",
       "      <td>2010-12-09 20:01:00</td>\n",
       "      <td>3.75</td>\n",
       "      <td>17530.0</td>\n",
       "    </tr>\n",
       "    <tr>\n",
       "      <th>525460</th>\n",
       "      <td>2</td>\n",
       "      <td>2010-12-09 20:01:00</td>\n",
       "      <td>1.95</td>\n",
       "      <td>17530.0</td>\n",
       "    </tr>\n",
       "  </tbody>\n",
       "</table>\n",
       "<p>525461 rows × 4 columns</p>\n",
       "</div>"
      ],
      "text/plain": [
       "        Quantity         InvoiceDate  Price  Customer ID\n",
       "0             12 2009-12-01 07:45:00   6.95      13085.0\n",
       "1             12 2009-12-01 07:45:00   6.75      13085.0\n",
       "2             12 2009-12-01 07:45:00   6.75      13085.0\n",
       "3             48 2009-12-01 07:45:00   2.10      13085.0\n",
       "4             24 2009-12-01 07:45:00   1.25      13085.0\n",
       "...          ...                 ...    ...          ...\n",
       "525456         2 2010-12-09 20:01:00   2.95      17530.0\n",
       "525457         1 2010-12-09 20:01:00   3.75      17530.0\n",
       "525458         1 2010-12-09 20:01:00   3.75      17530.0\n",
       "525459         2 2010-12-09 20:01:00   3.75      17530.0\n",
       "525460         2 2010-12-09 20:01:00   1.95      17530.0\n",
       "\n",
       "[525461 rows x 4 columns]"
      ]
     },
     "execution_count": 29,
     "metadata": {},
     "output_type": "execute_result"
    }
   ],
   "source": [
    "df"
   ]
  },
  {
   "cell_type": "code",
   "execution_count": 31,
   "id": "4438339e-d61b-48e0-b9e1-92f5e7f80349",
   "metadata": {},
   "outputs": [],
   "source": [
    "df = df.dropna(subset=['Customer ID'])"
   ]
  },
  {
   "cell_type": "code",
   "execution_count": 33,
   "id": "ce23d5f9-02db-4594-abd6-94040c003a31",
   "metadata": {},
   "outputs": [],
   "source": [
    "df['Customer ID'].fillna(0, inplace=True)"
   ]
  },
  {
   "cell_type": "code",
   "execution_count": 35,
   "id": "04e354f5-d2e9-4643-a79e-7efa56ba1f8a",
   "metadata": {},
   "outputs": [
    {
     "name": "stdout",
     "output_type": "stream",
     "text": [
      "Quantity       0\n",
      "InvoiceDate    0\n",
      "Price          0\n",
      "Customer ID    0\n",
      "dtype: int64\n"
     ]
    }
   ],
   "source": [
    "print(df.isnull().sum())"
   ]
  },
  {
   "cell_type": "code",
   "execution_count": 37,
   "id": "35365a6c-532a-4e97-b71c-97cd2ed47a93",
   "metadata": {},
   "outputs": [
    {
     "data": {
      "text/html": [
       "<div>\n",
       "<style scoped>\n",
       "    .dataframe tbody tr th:only-of-type {\n",
       "        vertical-align: middle;\n",
       "    }\n",
       "\n",
       "    .dataframe tbody tr th {\n",
       "        vertical-align: top;\n",
       "    }\n",
       "\n",
       "    .dataframe thead th {\n",
       "        text-align: right;\n",
       "    }\n",
       "</style>\n",
       "<table border=\"1\" class=\"dataframe\">\n",
       "  <thead>\n",
       "    <tr style=\"text-align: right;\">\n",
       "      <th></th>\n",
       "      <th>Amount</th>\n",
       "    </tr>\n",
       "  </thead>\n",
       "  <tbody>\n",
       "    <tr>\n",
       "      <th>0</th>\n",
       "      <td>83.4</td>\n",
       "    </tr>\n",
       "    <tr>\n",
       "      <th>1</th>\n",
       "      <td>81.0</td>\n",
       "    </tr>\n",
       "    <tr>\n",
       "      <th>2</th>\n",
       "      <td>81.0</td>\n",
       "    </tr>\n",
       "    <tr>\n",
       "      <th>3</th>\n",
       "      <td>100.8</td>\n",
       "    </tr>\n",
       "    <tr>\n",
       "      <th>4</th>\n",
       "      <td>30.0</td>\n",
       "    </tr>\n",
       "  </tbody>\n",
       "</table>\n",
       "</div>"
      ],
      "text/plain": [
       "   Amount\n",
       "0    83.4\n",
       "1    81.0\n",
       "2    81.0\n",
       "3   100.8\n",
       "4    30.0"
      ]
     },
     "execution_count": 37,
     "metadata": {},
     "output_type": "execute_result"
    }
   ],
   "source": [
    "amount = pd.DataFrame(df.Quantity * df.Price, columns = [\"Amount\"])\n",
    "amount.head()"
   ]
  },
  {
   "cell_type": "code",
   "execution_count": 39,
   "id": "3ab530bf-0f09-4fbd-8a6b-074b15bb0917",
   "metadata": {},
   "outputs": [],
   "source": [
    "# merging amount in order_wise\n",
    "df1 = pd.concat(objs = [df,  amount], axis = 1, ignore_index = False)"
   ]
  },
  {
   "cell_type": "markdown",
   "id": "f5f51cc0-4ef0-4790-ad7a-6f44d658deb2",
   "metadata": {},
   "source": [
    "## Monetary Function"
   ]
  },
  {
   "cell_type": "code",
   "execution_count": 42,
   "id": "4683ef82-62db-46d4-a780-ff6cee96efea",
   "metadata": {},
   "outputs": [
    {
     "data": {
      "text/html": [
       "<div>\n",
       "<style scoped>\n",
       "    .dataframe tbody tr th:only-of-type {\n",
       "        vertical-align: middle;\n",
       "    }\n",
       "\n",
       "    .dataframe tbody tr th {\n",
       "        vertical-align: top;\n",
       "    }\n",
       "\n",
       "    .dataframe thead th {\n",
       "        text-align: right;\n",
       "    }\n",
       "</style>\n",
       "<table border=\"1\" class=\"dataframe\">\n",
       "  <thead>\n",
       "    <tr style=\"text-align: right;\">\n",
       "      <th></th>\n",
       "      <th>Customer ID</th>\n",
       "      <th>Amount</th>\n",
       "    </tr>\n",
       "  </thead>\n",
       "  <tbody>\n",
       "    <tr>\n",
       "      <th>0</th>\n",
       "      <td>12346.0</td>\n",
       "      <td>-64.68</td>\n",
       "    </tr>\n",
       "    <tr>\n",
       "      <th>1</th>\n",
       "      <td>12347.0</td>\n",
       "      <td>1323.32</td>\n",
       "    </tr>\n",
       "    <tr>\n",
       "      <th>2</th>\n",
       "      <td>12348.0</td>\n",
       "      <td>222.16</td>\n",
       "    </tr>\n",
       "    <tr>\n",
       "      <th>3</th>\n",
       "      <td>12349.0</td>\n",
       "      <td>2646.99</td>\n",
       "    </tr>\n",
       "    <tr>\n",
       "      <th>4</th>\n",
       "      <td>12351.0</td>\n",
       "      <td>300.93</td>\n",
       "    </tr>\n",
       "  </tbody>\n",
       "</table>\n",
       "</div>"
      ],
      "text/plain": [
       "   Customer ID   Amount\n",
       "0      12346.0   -64.68\n",
       "1      12347.0  1323.32\n",
       "2      12348.0   222.16\n",
       "3      12349.0  2646.99\n",
       "4      12351.0   300.93"
      ]
     },
     "execution_count": 42,
     "metadata": {},
     "output_type": "execute_result"
    }
   ],
   "source": [
    "# Monetary Function\n",
    "# Finding total amount spent per customer\n",
    "monetary = df1.groupby(\"Customer ID\").Amount.sum()\n",
    "monetary = monetary.reset_index()\n",
    "monetary.head() \n"
   ]
  },
  {
   "cell_type": "markdown",
   "id": "c943b788-0880-4068-819e-09f387e098a8",
   "metadata": {},
   "source": [
    "## Frequency Value"
   ]
  },
  {
   "cell_type": "code",
   "execution_count": 45,
   "id": "2a13ff0b-62a2-4e72-b1b0-d09e9524991b",
   "metadata": {},
   "outputs": [],
   "source": [
    "## Frequency Value\n",
    "frequency = df1[['Customer ID','InvoiceDate']]"
   ]
  },
  {
   "cell_type": "code",
   "execution_count": 47,
   "id": "87dc753a-8986-4ddf-b0ee-78f2ed841792",
   "metadata": {
    "scrolled": true
   },
   "outputs": [
    {
     "data": {
      "text/html": [
       "<div>\n",
       "<style scoped>\n",
       "    .dataframe tbody tr th:only-of-type {\n",
       "        vertical-align: middle;\n",
       "    }\n",
       "\n",
       "    .dataframe tbody tr th {\n",
       "        vertical-align: top;\n",
       "    }\n",
       "\n",
       "    .dataframe thead th {\n",
       "        text-align: right;\n",
       "    }\n",
       "</style>\n",
       "<table border=\"1\" class=\"dataframe\">\n",
       "  <thead>\n",
       "    <tr style=\"text-align: right;\">\n",
       "      <th></th>\n",
       "      <th>Customer ID</th>\n",
       "      <th>Frequency</th>\n",
       "    </tr>\n",
       "  </thead>\n",
       "  <tbody>\n",
       "    <tr>\n",
       "      <th>0</th>\n",
       "      <td>12346.0</td>\n",
       "      <td>46</td>\n",
       "    </tr>\n",
       "    <tr>\n",
       "      <th>1</th>\n",
       "      <td>12347.0</td>\n",
       "      <td>71</td>\n",
       "    </tr>\n",
       "    <tr>\n",
       "      <th>2</th>\n",
       "      <td>12348.0</td>\n",
       "      <td>20</td>\n",
       "    </tr>\n",
       "    <tr>\n",
       "      <th>3</th>\n",
       "      <td>12349.0</td>\n",
       "      <td>107</td>\n",
       "    </tr>\n",
       "    <tr>\n",
       "      <th>4</th>\n",
       "      <td>12351.0</td>\n",
       "      <td>21</td>\n",
       "    </tr>\n",
       "  </tbody>\n",
       "</table>\n",
       "</div>"
      ],
      "text/plain": [
       "   Customer ID  Frequency\n",
       "0      12346.0         46\n",
       "1      12347.0         71\n",
       "2      12348.0         20\n",
       "3      12349.0        107\n",
       "4      12351.0         21"
      ]
     },
     "execution_count": 47,
     "metadata": {},
     "output_type": "execute_result"
    }
   ],
   "source": [
    "#Getting the count of orders made by each cusmtomer based on customer ID\n",
    "k = frequency.groupby('Customer ID').InvoiceDate.count()\n",
    "k = pd.DataFrame(k)\n",
    "k = k.reset_index()\n",
    "k.columns = [\"Customer ID\" ,\"Frequency\"]\n",
    "k.head()"
   ]
  },
  {
   "cell_type": "code",
   "execution_count": 49,
   "id": "ddfbb1f0-c994-4308-a9ee-1bade610b665",
   "metadata": {},
   "outputs": [
    {
     "data": {
      "text/html": [
       "<div>\n",
       "<style scoped>\n",
       "    .dataframe tbody tr th:only-of-type {\n",
       "        vertical-align: middle;\n",
       "    }\n",
       "\n",
       "    .dataframe tbody tr th {\n",
       "        vertical-align: top;\n",
       "    }\n",
       "\n",
       "    .dataframe thead th {\n",
       "        text-align: right;\n",
       "    }\n",
       "</style>\n",
       "<table border=\"1\" class=\"dataframe\">\n",
       "  <thead>\n",
       "    <tr style=\"text-align: right;\">\n",
       "      <th></th>\n",
       "      <th>Customer ID</th>\n",
       "      <th>Amount</th>\n",
       "      <th>Frequency</th>\n",
       "    </tr>\n",
       "  </thead>\n",
       "  <tbody>\n",
       "    <tr>\n",
       "      <th>0</th>\n",
       "      <td>12346.0</td>\n",
       "      <td>-64.68</td>\n",
       "      <td>46</td>\n",
       "    </tr>\n",
       "    <tr>\n",
       "      <th>1</th>\n",
       "      <td>12347.0</td>\n",
       "      <td>1323.32</td>\n",
       "      <td>71</td>\n",
       "    </tr>\n",
       "    <tr>\n",
       "      <th>2</th>\n",
       "      <td>12348.0</td>\n",
       "      <td>222.16</td>\n",
       "      <td>20</td>\n",
       "    </tr>\n",
       "    <tr>\n",
       "      <th>3</th>\n",
       "      <td>12349.0</td>\n",
       "      <td>2646.99</td>\n",
       "      <td>107</td>\n",
       "    </tr>\n",
       "    <tr>\n",
       "      <th>4</th>\n",
       "      <td>12351.0</td>\n",
       "      <td>300.93</td>\n",
       "      <td>21</td>\n",
       "    </tr>\n",
       "  </tbody>\n",
       "</table>\n",
       "</div>"
      ],
      "text/plain": [
       "   Customer ID   Amount  Frequency\n",
       "0      12346.0   -64.68         46\n",
       "1      12347.0  1323.32         71\n",
       "2      12348.0   222.16         20\n",
       "3      12349.0  2646.99        107\n",
       "4      12351.0   300.93         21"
      ]
     },
     "execution_count": 49,
     "metadata": {},
     "output_type": "execute_result"
    }
   ],
   "source": [
    "##Merging amount and frequency\n",
    "master=monetary.merge(k,on =\"Customer ID\",how=\"inner\")\n",
    "master.head()"
   ]
  },
  {
   "cell_type": "code",
   "execution_count": 51,
   "id": "9d7f618b-e9c7-4976-abc3-8d06d5ff1e7b",
   "metadata": {},
   "outputs": [],
   "source": [
    "recency = df1[['Customer ID','InvoiceDate']]\n",
    "maximum = max(recency.InvoiceDate)"
   ]
  },
  {
   "cell_type": "code",
   "execution_count": 52,
   "id": "f512ee28-146d-4d3d-b1fc-8acf08cae1eb",
   "metadata": {},
   "outputs": [
    {
     "data": {
      "text/html": [
       "<div>\n",
       "<style scoped>\n",
       "    .dataframe tbody tr th:only-of-type {\n",
       "        vertical-align: middle;\n",
       "    }\n",
       "\n",
       "    .dataframe tbody tr th {\n",
       "        vertical-align: top;\n",
       "    }\n",
       "\n",
       "    .dataframe thead th {\n",
       "        text-align: right;\n",
       "    }\n",
       "</style>\n",
       "<table border=\"1\" class=\"dataframe\">\n",
       "  <thead>\n",
       "    <tr style=\"text-align: right;\">\n",
       "      <th></th>\n",
       "      <th>Customer ID</th>\n",
       "      <th>InvoiceDate</th>\n",
       "      <th>maximum</th>\n",
       "      <th>diff</th>\n",
       "    </tr>\n",
       "  </thead>\n",
       "  <tbody>\n",
       "    <tr>\n",
       "      <th>0</th>\n",
       "      <td>13085.0</td>\n",
       "      <td>2009-12-01 07:45:00</td>\n",
       "      <td>2010-12-09 20:01:00</td>\n",
       "      <td>374 days 12:16:00</td>\n",
       "    </tr>\n",
       "    <tr>\n",
       "      <th>1</th>\n",
       "      <td>13085.0</td>\n",
       "      <td>2009-12-01 07:45:00</td>\n",
       "      <td>2010-12-09 20:01:00</td>\n",
       "      <td>374 days 12:16:00</td>\n",
       "    </tr>\n",
       "    <tr>\n",
       "      <th>2</th>\n",
       "      <td>13085.0</td>\n",
       "      <td>2009-12-01 07:45:00</td>\n",
       "      <td>2010-12-09 20:01:00</td>\n",
       "      <td>374 days 12:16:00</td>\n",
       "    </tr>\n",
       "    <tr>\n",
       "      <th>3</th>\n",
       "      <td>13085.0</td>\n",
       "      <td>2009-12-01 07:45:00</td>\n",
       "      <td>2010-12-09 20:01:00</td>\n",
       "      <td>374 days 12:16:00</td>\n",
       "    </tr>\n",
       "    <tr>\n",
       "      <th>4</th>\n",
       "      <td>13085.0</td>\n",
       "      <td>2009-12-01 07:45:00</td>\n",
       "      <td>2010-12-09 20:01:00</td>\n",
       "      <td>374 days 12:16:00</td>\n",
       "    </tr>\n",
       "  </tbody>\n",
       "</table>\n",
       "</div>"
      ],
      "text/plain": [
       "   Customer ID         InvoiceDate             maximum              diff\n",
       "0      13085.0 2009-12-01 07:45:00 2010-12-09 20:01:00 374 days 12:16:00\n",
       "1      13085.0 2009-12-01 07:45:00 2010-12-09 20:01:00 374 days 12:16:00\n",
       "2      13085.0 2009-12-01 07:45:00 2010-12-09 20:01:00 374 days 12:16:00\n",
       "3      13085.0 2009-12-01 07:45:00 2010-12-09 20:01:00 374 days 12:16:00\n",
       "4      13085.0 2009-12-01 07:45:00 2010-12-09 20:01:00 374 days 12:16:00"
      ]
     },
     "execution_count": 52,
     "metadata": {},
     "output_type": "execute_result"
    }
   ],
   "source": [
    "#generating recency function\n",
    "#filtering data for customerid and invoice_date\n",
    "recency= df1[[\"Customer ID\",\"InvoiceDate\"]]\n",
    "#finding max data (latest date nikalna hai ki ow kb aya )\n",
    "maximum=max(recency.InvoiceDate)\n",
    "recency['maximum'] = max(recency.InvoiceDate)\n",
    "\n",
    "#adding one more day to the max date , so that the max date will have 1 as the difference and not zero.\n",
    "maximum=maximum+pd.DateOffset(days=1)\n",
    "recency['diff']=maximum-recency.InvoiceDate\n",
    "recency.head()"
   ]
  },
  {
   "cell_type": "code",
   "execution_count": 53,
   "id": "3865f061-1d85-4fe4-b7f4-86ceabd138b0",
   "metadata": {},
   "outputs": [],
   "source": [
    "# rencency by customerid\n",
    "a = recency.groupby('Customer ID')"
   ]
  },
  {
   "cell_type": "code",
   "execution_count": 55,
   "id": "233431b7-4441-461f-87f5-a1e2e64a3d6a",
   "metadata": {},
   "outputs": [
    {
     "data": {
      "text/plain": [
       "Customer ID\n",
       "12346.0    67 days 03:28:00\n",
       "12347.0     3 days 05:04:00\n",
       "12348.0    74 days 05:02:00\n",
       "12349.0    43 days 11:38:00\n",
       "12351.0    11 days 04:38:00\n",
       "                 ...       \n",
       "18283.0    18 days 04:31:00\n",
       "18284.0    65 days 07:30:00\n",
       "18285.0   296 days 09:37:00\n",
       "18286.0   112 days 08:04:00\n",
       "18287.0    18 days 08:10:00\n",
       "Name: diff, Length: 4383, dtype: timedelta64[ns]"
      ]
     },
     "execution_count": 55,
     "metadata": {},
     "output_type": "execute_result"
    }
   ],
   "source": [
    "a['diff'].min()"
   ]
  },
  {
   "cell_type": "code",
   "execution_count": 56,
   "id": "6a8d4104-4f8d-4d4f-89c5-aa96f17b27e8",
   "metadata": {},
   "outputs": [
    {
     "data": {
      "text/html": [
       "<div>\n",
       "<style scoped>\n",
       "    .dataframe tbody tr th:only-of-type {\n",
       "        vertical-align: middle;\n",
       "    }\n",
       "\n",
       "    .dataframe tbody tr th {\n",
       "        vertical-align: top;\n",
       "    }\n",
       "\n",
       "    .dataframe thead th {\n",
       "        text-align: right;\n",
       "    }\n",
       "</style>\n",
       "<table border=\"1\" class=\"dataframe\">\n",
       "  <thead>\n",
       "    <tr style=\"text-align: right;\">\n",
       "      <th></th>\n",
       "      <th>Customer ID</th>\n",
       "      <th>Recency</th>\n",
       "    </tr>\n",
       "  </thead>\n",
       "  <tbody>\n",
       "    <tr>\n",
       "      <th>0</th>\n",
       "      <td>12346.0</td>\n",
       "      <td>67 days 03:28:00</td>\n",
       "    </tr>\n",
       "    <tr>\n",
       "      <th>1</th>\n",
       "      <td>12347.0</td>\n",
       "      <td>3 days 05:04:00</td>\n",
       "    </tr>\n",
       "    <tr>\n",
       "      <th>2</th>\n",
       "      <td>12348.0</td>\n",
       "      <td>74 days 05:02:00</td>\n",
       "    </tr>\n",
       "    <tr>\n",
       "      <th>3</th>\n",
       "      <td>12349.0</td>\n",
       "      <td>43 days 11:38:00</td>\n",
       "    </tr>\n",
       "    <tr>\n",
       "      <th>4</th>\n",
       "      <td>12351.0</td>\n",
       "      <td>11 days 04:38:00</td>\n",
       "    </tr>\n",
       "  </tbody>\n",
       "</table>\n",
       "</div>"
      ],
      "text/plain": [
       "   Customer ID          Recency\n",
       "0      12346.0 67 days 03:28:00\n",
       "1      12347.0  3 days 05:04:00\n",
       "2      12348.0 74 days 05:02:00\n",
       "3      12349.0 43 days 11:38:00\n",
       "4      12351.0 11 days 04:38:00"
      ]
     },
     "execution_count": 56,
     "metadata": {},
     "output_type": "execute_result"
    }
   ],
   "source": [
    "# Dataframe merging by recency ' \n",
    "df = pd.DataFrame(recency.groupby('Customer ID')[\"diff\"].min())\n",
    "df = df.reset_index()\n",
    "df.columns = [\"Customer ID\",\"Recency\"]\n",
    "df.head()"
   ]
  },
  {
   "cell_type": "markdown",
   "id": "f2a27236-9a73-4af9-8ccd-839c0311bd18",
   "metadata": {},
   "source": [
    "## RFM Combined DataFrame"
   ]
  },
  {
   "cell_type": "code",
   "execution_count": 58,
   "id": "37d88192-51f0-4fed-a683-1d6a2352dbbf",
   "metadata": {},
   "outputs": [],
   "source": [
    "# combilning all  recency,frequency and monetary parameters\n",
    "# RFM = k.merge(monetary, on = ('Customer ID'))\n",
    "RFM = pd.merge(left=df, right=master , on = 'Customer ID')"
   ]
  },
  {
   "cell_type": "code",
   "execution_count": 64,
   "id": "fb169433-5fc1-4103-98ed-1583d06634ec",
   "metadata": {
    "scrolled": true
   },
   "outputs": [
    {
     "data": {
      "text/html": [
       "<div>\n",
       "<style scoped>\n",
       "    .dataframe tbody tr th:only-of-type {\n",
       "        vertical-align: middle;\n",
       "    }\n",
       "\n",
       "    .dataframe tbody tr th {\n",
       "        vertical-align: top;\n",
       "    }\n",
       "\n",
       "    .dataframe thead th {\n",
       "        text-align: right;\n",
       "    }\n",
       "</style>\n",
       "<table border=\"1\" class=\"dataframe\">\n",
       "  <thead>\n",
       "    <tr style=\"text-align: right;\">\n",
       "      <th></th>\n",
       "      <th>Customer ID</th>\n",
       "      <th>Recency</th>\n",
       "      <th>Amount</th>\n",
       "      <th>Frequency</th>\n",
       "    </tr>\n",
       "  </thead>\n",
       "  <tbody>\n",
       "    <tr>\n",
       "      <th>0</th>\n",
       "      <td>12346.0</td>\n",
       "      <td>67 days 03:28:00</td>\n",
       "      <td>-64.68</td>\n",
       "      <td>46</td>\n",
       "    </tr>\n",
       "    <tr>\n",
       "      <th>1</th>\n",
       "      <td>12347.0</td>\n",
       "      <td>3 days 05:04:00</td>\n",
       "      <td>1323.32</td>\n",
       "      <td>71</td>\n",
       "    </tr>\n",
       "    <tr>\n",
       "      <th>2</th>\n",
       "      <td>12348.0</td>\n",
       "      <td>74 days 05:02:00</td>\n",
       "      <td>222.16</td>\n",
       "      <td>20</td>\n",
       "    </tr>\n",
       "    <tr>\n",
       "      <th>3</th>\n",
       "      <td>12349.0</td>\n",
       "      <td>43 days 11:38:00</td>\n",
       "      <td>2646.99</td>\n",
       "      <td>107</td>\n",
       "    </tr>\n",
       "    <tr>\n",
       "      <th>4</th>\n",
       "      <td>12351.0</td>\n",
       "      <td>11 days 04:38:00</td>\n",
       "      <td>300.93</td>\n",
       "      <td>21</td>\n",
       "    </tr>\n",
       "    <tr>\n",
       "      <th>...</th>\n",
       "      <td>...</td>\n",
       "      <td>...</td>\n",
       "      <td>...</td>\n",
       "      <td>...</td>\n",
       "    </tr>\n",
       "    <tr>\n",
       "      <th>4378</th>\n",
       "      <td>18283.0</td>\n",
       "      <td>18 days 04:31:00</td>\n",
       "      <td>641.77</td>\n",
       "      <td>230</td>\n",
       "    </tr>\n",
       "    <tr>\n",
       "      <th>4379</th>\n",
       "      <td>18284.0</td>\n",
       "      <td>65 days 07:30:00</td>\n",
       "      <td>436.68</td>\n",
       "      <td>29</td>\n",
       "    </tr>\n",
       "    <tr>\n",
       "      <th>4380</th>\n",
       "      <td>18285.0</td>\n",
       "      <td>296 days 09:37:00</td>\n",
       "      <td>427.00</td>\n",
       "      <td>12</td>\n",
       "    </tr>\n",
       "    <tr>\n",
       "      <th>4381</th>\n",
       "      <td>18286.0</td>\n",
       "      <td>112 days 08:04:00</td>\n",
       "      <td>1188.43</td>\n",
       "      <td>70</td>\n",
       "    </tr>\n",
       "    <tr>\n",
       "      <th>4382</th>\n",
       "      <td>18287.0</td>\n",
       "      <td>18 days 08:10:00</td>\n",
       "      <td>2340.61</td>\n",
       "      <td>86</td>\n",
       "    </tr>\n",
       "  </tbody>\n",
       "</table>\n",
       "<p>4383 rows × 4 columns</p>\n",
       "</div>"
      ],
      "text/plain": [
       "      Customer ID           Recency   Amount  Frequency\n",
       "0         12346.0  67 days 03:28:00   -64.68         46\n",
       "1         12347.0   3 days 05:04:00  1323.32         71\n",
       "2         12348.0  74 days 05:02:00   222.16         20\n",
       "3         12349.0  43 days 11:38:00  2646.99        107\n",
       "4         12351.0  11 days 04:38:00   300.93         21\n",
       "...           ...               ...      ...        ...\n",
       "4378      18283.0  18 days 04:31:00   641.77        230\n",
       "4379      18284.0  65 days 07:30:00   436.68         29\n",
       "4380      18285.0 296 days 09:37:00   427.00         12\n",
       "4381      18286.0 112 days 08:04:00  1188.43         70\n",
       "4382      18287.0  18 days 08:10:00  2340.61         86\n",
       "\n",
       "[4383 rows x 4 columns]"
      ]
     },
     "execution_count": 64,
     "metadata": {},
     "output_type": "execute_result"
    }
   ],
   "source": [
    "RFM"
   ]
  },
  {
   "cell_type": "markdown",
   "id": "12848024-5e22-403f-93be-7c12e8915ed9",
   "metadata": {},
   "source": [
    "# outlier"
   ]
  },
  {
   "cell_type": "code",
   "execution_count": 67,
   "id": "bdd7b97a-e98f-4d97-891a-7710ba7d6cda",
   "metadata": {},
   "outputs": [
    {
     "data": {
      "image/png": "[encoded data removed]",
      "text/plain": [
       "<Figure size 640x480 with 1 Axes>"
      ]
     },
     "metadata": {},
     "output_type": "display_data"
    }
   ],
   "source": [
    "# outlier treatment for Amount\n",
    "plt.boxplot(RFM.Amount)\n",
    "Q1 = RFM.Amount.quantile(0.25)\n",
    "Q3 = RFM.Amount.quantile(0.75)\n",
    "IQR = Q3 - Q1\n",
    "RFM = RFM[(RFM.Amount >= Q1 - 1.5*IQR) & (RFM.Amount <= Q3 + 1.5*IQR)]"
   ]
  },
  {
   "cell_type": "code",
   "execution_count": 68,
   "id": "56a2a1cc-b393-4345-982e-7333440e59a5",
   "metadata": {},
   "outputs": [
    {
     "data": {
      "image/png": "[encoded data removed]",
      "text/plain": [
       "<Figure size 640x480 with 1 Axes>"
      ]
     },
     "metadata": {},
     "output_type": "display_data"
    }
   ],
   "source": [
    "# outlier treatment for Amount\n",
    "plt.boxplot(RFM.Recency)\n",
    "Q1 = RFM.Recency.quantile(0.25)\n",
    "Q3 = RFM.Recency.quantile(0.75)\n",
    "IQR = Q3 - Q1\n",
    "RFM = RFM[(RFM.Recency >= Q1 - 1.5*IQR) & (RFM.Recency <= Q3 + 1.5*IQR)]"
   ]
  },
  {
   "cell_type": "code",
   "execution_count": 70,
   "id": "a15b951c-c5a4-4bde-84e0-cb7d1c8cac99",
   "metadata": {},
   "outputs": [
    {
     "data": {
      "image/png": "[encoded data removed]",
      "text/plain": [
       "<Figure size 640x480 with 1 Axes>"
      ]
     },
     "metadata": {},
     "output_type": "display_data"
    }
   ],
   "source": [
    "# outlier treatment for Frequency\n",
    "plt.boxplot(RFM.Frequency)\n",
    "Q1 = RFM.Frequency.quantile(0.25)\n",
    "Q3 = RFM.Frequency.quantile(0.75)\n",
    "IQR = Q3 - Q1\n",
    "RFM = RFM[(RFM.Frequency >= Q1 - 1.5*IQR) & (RFM.Frequency <= Q3 + 1.5*IQR)]"
   ]
  },
  {
   "cell_type": "markdown",
   "id": "3d31c302-da18-49bb-9ecb-fceb86796a82",
   "metadata": {},
   "source": [
    "## Scaling the RFM data"
   ]
  },
  {
   "cell_type": "markdown",
   "id": "27eb317e-673f-4c24-981b-2b669cece759",
   "metadata": {},
   "source": [
    "# Standardise all parameters"
   ]
  },
  {
   "cell_type": "code",
   "execution_count": 75,
   "id": "cc8156f9-4f49-4db3-9102-f4bb8953d696",
   "metadata": {},
   "outputs": [],
   "source": [
    "RFM_norm1 = RFM.drop('Customer ID',axis =1)\n",
    "RFM_norm1.Recency = RFM_norm1.Recency.dt.days\n",
    "\n",
    "from sklearn.preprocessing import StandardScaler\n",
    "standard_scaler =  StandardScaler()\n",
    "RFM_norm1 = standard_scaler.fit_transform(RFM_norm1)"
   ]
  },
  {
   "cell_type": "code",
   "execution_count": 77,
   "id": "77d8264f-7fa4-469b-a284-dd338fb2a5c0",
   "metadata": {
    "scrolled": true
   },
   "outputs": [
    {
     "data": {
      "text/html": [
       "<div>\n",
       "<style scoped>\n",
       "    .dataframe tbody tr th:only-of-type {\n",
       "        vertical-align: middle;\n",
       "    }\n",
       "\n",
       "    .dataframe tbody tr th {\n",
       "        vertical-align: top;\n",
       "    }\n",
       "\n",
       "    .dataframe thead th {\n",
       "        text-align: right;\n",
       "    }\n",
       "</style>\n",
       "<table border=\"1\" class=\"dataframe\">\n",
       "  <thead>\n",
       "    <tr style=\"text-align: right;\">\n",
       "      <th></th>\n",
       "      <th>Recency</th>\n",
       "      <th>Amount</th>\n",
       "      <th>Frequency</th>\n",
       "    </tr>\n",
       "  </thead>\n",
       "  <tbody>\n",
       "    <tr>\n",
       "      <th>0</th>\n",
       "      <td>-0.294127</td>\n",
       "      <td>-1.124302</td>\n",
       "      <td>-0.086061</td>\n",
       "    </tr>\n",
       "    <tr>\n",
       "      <th>1</th>\n",
       "      <td>-1.004192</td>\n",
       "      <td>0.671019</td>\n",
       "      <td>0.481066</td>\n",
       "    </tr>\n",
       "    <tr>\n",
       "      <th>2</th>\n",
       "      <td>-0.216463</td>\n",
       "      <td>-0.753286</td>\n",
       "      <td>-0.675873</td>\n",
       "    </tr>\n",
       "    <tr>\n",
       "      <th>3</th>\n",
       "      <td>-0.560401</td>\n",
       "      <td>2.383131</td>\n",
       "      <td>1.297728</td>\n",
       "    </tr>\n",
       "    <tr>\n",
       "      <th>4</th>\n",
       "      <td>-0.915434</td>\n",
       "      <td>-0.651401</td>\n",
       "      <td>-0.653188</td>\n",
       "    </tr>\n",
       "  </tbody>\n",
       "</table>\n",
       "</div>"
      ],
      "text/plain": [
       "    Recency    Amount  Frequency\n",
       "0 -0.294127 -1.124302  -0.086061\n",
       "1 -1.004192  0.671019   0.481066\n",
       "2 -0.216463 -0.753286  -0.675873\n",
       "3 -0.560401  2.383131   1.297728\n",
       "4 -0.915434 -0.651401  -0.653188"
      ]
     },
     "execution_count": 77,
     "metadata": {},
     "output_type": "execute_result"
    }
   ],
   "source": [
    "RFM_norm1 = pd.DataFrame(RFM_norm1)\n",
    "RFM_norm1.columns = ['Recency','Amount','Frequency']\n",
    "RFM_norm1.head()"
   ]
  },
  {
   "cell_type": "markdown",
   "id": "e2ec13f6-6682-42ed-88ff-8254d10fad5b",
   "metadata": {},
   "source": [
    "## K- Means with K=5"
   ]
  },
  {
   "cell_type": "code",
   "execution_count": 80,
   "id": "d3b2f049-c213-4b21-b93f-7aa8a75ddb17",
   "metadata": {},
   "outputs": [
    {
     "data": {
      "text/html": [
       "<style>#sk-container-id-1 {\n",
       "  /* Definition of color scheme common for light and dark mode */\n",
       "  --sklearn-color-text: black;\n",
       "  --sklearn-color-line: gray;\n",
       "  /* Definition of color scheme for unfitted estimators */\n",
       "  --sklearn-color-unfitted-level-0: #fff5e6;\n",
       "  --sklearn-color-unfitted-level-1: #f6e4d2;\n",
       "  --sklearn-color-unfitted-level-2: #ffe0b3;\n",
       "  --sklearn-color-unfitted-level-3: chocolate;\n",
       "  /* Definition of color scheme for fitted estimators */\n",
       "  --sklearn-color-fitted-level-0: #f0f8ff;\n",
       "  --sklearn-color-fitted-level-1: #d4ebff;\n",
       "  --sklearn-color-fitted-level-2: #b3dbfd;\n",
       "  --sklearn-color-fitted-level-3: cornflowerblue;\n",
       "\n",
       "  /* Specific color for light theme */\n",
       "  --sklearn-color-text-on-default-background: var(--sg-text-color, var(--theme-code-foreground, var(--jp-content-font-color1, black)));\n",
       "  --sklearn-color-background: var(--sg-background-color, var(--theme-background, var(--jp-layout-color0, white)));\n",
       "  --sklearn-color-border-box: var(--sg-text-color, var(--theme-code-foreground, var(--jp-content-font-color1, black)));\n",
       "  --sklearn-color-icon: #696969;\n",
       "\n",
       "  @media (prefers-color-scheme: dark) {\n",
       "    /* Redefinition of color scheme for dark theme */\n",
       "    --sklearn-color-text-on-default-background: var(--sg-text-color, var(--theme-code-foreground, var(--jp-content-font-color1, white)));\n",
       "    --sklearn-color-background: var(--sg-background-color, var(--theme-background, var(--jp-layout-color0, #111)));\n",
       "    --sklearn-color-border-box: var(--sg-text-color, var(--theme-code-foreground, var(--jp-content-font-color1, white)));\n",
       "    --sklearn-color-icon: #878787;\n",
       "  }\n",
       "}\n",
       "\n",
       "#sk-container-id-1 {\n",
       "  color: var(--sklearn-color-text);\n",
       "}\n",
       "\n",
       "#sk-container-id-1 pre {\n",
       "  padding: 0;\n",
       "}\n",
       "\n",
       "#sk-container-id-1 input.sk-hidden--visually {\n",
       "  border: 0;\n",
       "  clip: rect(1px 1px 1px 1px);\n",
       "  clip: rect(1px, 1px, 1px, 1px);\n",
       "  height: 1px;\n",
       "  margin: -1px;\n",
       "  overflow: hidden;\n",
       "  padding: 0;\n",
       "  position: absolute;\n",
       "  width: 1px;\n",
       "}\n",
       "\n",
       "#sk-container-id-1 div.sk-dashed-wrapped {\n",
       "  border: 1px dashed var(--sklearn-color-line);\n",
       "  margin: 0 0.4em 0.5em 0.4em;\n",
       "  box-sizing: border-box;\n",
       "  padding-bottom: 0.4em;\n",
       "  background-color: var(--sklearn-color-background);\n",
       "}\n",
       "\n",
       "#sk-container-id-1 div.sk-container {\n",
       "  /* jupyter's `normalize.less` sets `[hidden] { display: none; }`\n",
       "     but bootstrap.min.css set `[hidden] { display: none !important; }`\n",
       "     so we also need the `!important` here to be able to override the\n",
       "     default hidden behavior on the sphinx rendered scikit-learn.org.\n",
       "     See: https://github.com/scikit-learn/scikit-learn/issues/21755 */\n",
       "  display: inline-block !important;\n",
       "  position: relative;\n",
       "}\n",
       "\n",
       "#sk-container-id-1 div.sk-text-repr-fallback {\n",
       "  display: none;\n",
       "}\n",
       "\n",
       "div.sk-parallel-item,\n",
       "div.sk-serial,\n",
       "div.sk-item {\n",
       "  /* draw centered vertical line to link estimators */\n",
       "  background-image: linear-gradient(var(--sklearn-color-text-on-default-background), var(--sklearn-color-text-on-default-background));\n",
       "  background-size: 2px 100%;\n",
       "  background-repeat: no-repeat;\n",
       "  background-position: center center;\n",
       "}\n",
       "\n",
       "/* Parallel-specific style estimator block */\n",
       "\n",
       "#sk-container-id-1 div.sk-parallel-item::after {\n",
       "  content: \"\";\n",
       "  width: 100%;\n",
       "  border-bottom: 2px solid var(--sklearn-color-text-on-default-background);\n",
       "  flex-grow: 1;\n",
       "}\n",
       "\n",
       "#sk-container-id-1 div.sk-parallel {\n",
       "  display: flex;\n",
       "  align-items: stretch;\n",
       "  justify-content: center;\n",
       "  background-color: var(--sklearn-color-background);\n",
       "  position: relative;\n",
       "}\n",
       "\n",
       "#sk-container-id-1 div.sk-parallel-item {\n",
       "  display: flex;\n",
       "  flex-direction: column;\n",
       "}\n",
       "\n",
       "#sk-container-id-1 div.sk-parallel-item:first-child::after {\n",
       "  align-self: flex-end;\n",
       "  width: 50%;\n",
       "}\n",
       "\n",
       "#sk-container-id-1 div.sk-parallel-item:last-child::after {\n",
       "  align-self: flex-start;\n",
       "  width: 50%;\n",
       "}\n",
       "\n",
       "#sk-container-id-1 div.sk-parallel-item:only-child::after {\n",
       "  width: 0;\n",
       "}\n",
       "\n",
       "/* Serial-specific style estimator block */\n",
       "\n",
       "#sk-container-id-1 div.sk-serial {\n",
       "  display: flex;\n",
       "  flex-direction: column;\n",
       "  align-items: center;\n",
       "  background-color: var(--sklearn-color-background);\n",
       "  padding-right: 1em;\n",
       "  padding-left: 1em;\n",
       "}\n",
       "\n",
       "\n",
       "/* Toggleable style: style used for estimator/Pipeline/ColumnTransformer box that is\n",
       "clickable and can be expanded/collapsed.\n",
       "- Pipeline and ColumnTransformer use this feature and define the default style\n",
       "- Estimators will overwrite some part of the style using the `sk-estimator` class\n",
       "*/\n",
       "\n",
       "/* Pipeline and ColumnTransformer style (default) */\n",
       "\n",
       "#sk-container-id-1 div.sk-toggleable {\n",
       "  /* Default theme specific background. It is overwritten whether we have a\n",
       "  specific estimator or a Pipeline/ColumnTransformer */\n",
       "  background-color: var(--sklearn-color-background);\n",
       "}\n",
       "\n",
       "/* Toggleable label */\n",
       "#sk-container-id-1 label.sk-toggleable__label {\n",
       "  cursor: pointer;\n",
       "  display: block;\n",
       "  width: 100%;\n",
       "  margin-bottom: 0;\n",
       "  padding: 0.5em;\n",
       "  box-sizing: border-box;\n",
       "  text-align: center;\n",
       "}\n",
       "\n",
       "#sk-container-id-1 label.sk-toggleable__label-arrow:before {\n",
       "  /* Arrow on the left of the label */\n",
       "  content: \"▸\";\n",
       "  float: left;\n",
       "  margin-right: 0.25em;\n",
       "  color: var(--sklearn-color-icon);\n",
       "}\n",
       "\n",
       "#sk-container-id-1 label.sk-toggleable__label-arrow:hover:before {\n",
       "  color: var(--sklearn-color-text);\n",
       "}\n",
       "\n",
       "/* Toggleable content - dropdown */\n",
       "\n",
       "#sk-container-id-1 div.sk-toggleable__content {\n",
       "  max-height: 0;\n",
       "  max-width: 0;\n",
       "  overflow: hidden;\n",
       "  text-align: left;\n",
       "  /* unfitted */\n",
       "  background-color: var(--sklearn-color-unfitted-level-0);\n",
       "}\n",
       "\n",
       "#sk-container-id-1 div.sk-toggleable__content.fitted {\n",
       "  /* fitted */\n",
       "  background-color: var(--sklearn-color-fitted-level-0);\n",
       "}\n",
       "\n",
       "#sk-container-id-1 div.sk-toggleable__content pre {\n",
       "  margin: 0.2em;\n",
       "  border-radius: 0.25em;\n",
       "  color: var(--sklearn-color-text);\n",
       "  /* unfitted */\n",
       "  background-color: var(--sklearn-color-unfitted-level-0);\n",
       "}\n",
       "\n",
       "#sk-container-id-1 div.sk-toggleable__content.fitted pre {\n",
       "  /* unfitted */\n",
       "  background-color: var(--sklearn-color-fitted-level-0);\n",
       "}\n",
       "\n",
       "#sk-container-id-1 input.sk-toggleable__control:checked~div.sk-toggleable__content {\n",
       "  /* Expand drop-down */\n",
       "  max-height: 200px;\n",
       "  max-width: 100%;\n",
       "  overflow: auto;\n",
       "}\n",
       "\n",
       "#sk-container-id-1 input.sk-toggleable__control:checked~label.sk-toggleable__label-arrow:before {\n",
       "  content: \"▾\";\n",
       "}\n",
       "\n",
       "/* Pipeline/ColumnTransformer-specific style */\n",
       "\n",
       "#sk-container-id-1 div.sk-label input.sk-toggleable__control:checked~label.sk-toggleable__label {\n",
       "  color: var(--sklearn-color-text);\n",
       "  background-color: var(--sklearn-color-unfitted-level-2);\n",
       "}\n",
       "\n",
       "#sk-container-id-1 div.sk-label.fitted input.sk-toggleable__control:checked~label.sk-toggleable__label {\n",
       "  background-color: var(--sklearn-color-fitted-level-2);\n",
       "}\n",
       "\n",
       "/* Estimator-specific style */\n",
       "\n",
       "/* Colorize estimator box */\n",
       "#sk-container-id-1 div.sk-estimator input.sk-toggleable__control:checked~label.sk-toggleable__label {\n",
       "  /* unfitted */\n",
       "  background-color: var(--sklearn-color-unfitted-level-2);\n",
       "}\n",
       "\n",
       "#sk-container-id-1 div.sk-estimator.fitted input.sk-toggleable__control:checked~label.sk-toggleable__label {\n",
       "  /* fitted */\n",
       "  background-color: var(--sklearn-color-fitted-level-2);\n",
       "}\n",
       "\n",
       "#sk-container-id-1 div.sk-label label.sk-toggleable__label,\n",
       "#sk-container-id-1 div.sk-label label {\n",
       "  /* The background is the default theme color */\n",
       "  color: var(--sklearn-color-text-on-default-background);\n",
       "}\n",
       "\n",
       "/* On hover, darken the color of the background */\n",
       "#sk-container-id-1 div.sk-label:hover label.sk-toggleable__label {\n",
       "  color: var(--sklearn-color-text);\n",
       "  background-color: var(--sklearn-color-unfitted-level-2);\n",
       "}\n",
       "\n",
       "/* Label box, darken color on hover, fitted */\n",
       "#sk-container-id-1 div.sk-label.fitted:hover label.sk-toggleable__label.fitted {\n",
       "  color: var(--sklearn-color-text);\n",
       "  background-color: var(--sklearn-color-fitted-level-2);\n",
       "}\n",
       "\n",
       "/* Estimator label */\n",
       "\n",
       "#sk-container-id-1 div.sk-label label {\n",
       "  font-family: monospace;\n",
       "  font-weight: bold;\n",
       "  display: inline-block;\n",
       "  line-height: 1.2em;\n",
       "}\n",
       "\n",
       "#sk-container-id-1 div.sk-label-container {\n",
       "  text-align: center;\n",
       "}\n",
       "\n",
       "/* Estimator-specific */\n",
       "#sk-container-id-1 div.sk-estimator {\n",
       "  font-family: monospace;\n",
       "  border: 1px dotted var(--sklearn-color-border-box);\n",
       "  border-radius: 0.25em;\n",
       "  box-sizing: border-box;\n",
       "  margin-bottom: 0.5em;\n",
       "  /* unfitted */\n",
       "  background-color: var(--sklearn-color-unfitted-level-0);\n",
       "}\n",
       "\n",
       "#sk-container-id-1 div.sk-estimator.fitted {\n",
       "  /* fitted */\n",
       "  background-color: var(--sklearn-color-fitted-level-0);\n",
       "}\n",
       "\n",
       "/* on hover */\n",
       "#sk-container-id-1 div.sk-estimator:hover {\n",
       "  /* unfitted */\n",
       "  background-color: var(--sklearn-color-unfitted-level-2);\n",
       "}\n",
       "\n",
       "#sk-container-id-1 div.sk-estimator.fitted:hover {\n",
       "  /* fitted */\n",
       "  background-color: var(--sklearn-color-fitted-level-2);\n",
       "}\n",
       "\n",
       "/* Specification for estimator info (e.g. \"i\" and \"?\") */\n",
       "\n",
       "/* Common style for \"i\" and \"?\" */\n",
       "\n",
       ".sk-estimator-doc-link,\n",
       "a:link.sk-estimator-doc-link,\n",
       "a:visited.sk-estimator-doc-link {\n",
       "  float: right;\n",
       "  font-size: smaller;\n",
       "  line-height: 1em;\n",
       "  font-family: monospace;\n",
       "  background-color: var(--sklearn-color-background);\n",
       "  border-radius: 1em;\n",
       "  height: 1em;\n",
       "  width: 1em;\n",
       "  text-decoration: none !important;\n",
       "  margin-left: 1ex;\n",
       "  /* unfitted */\n",
       "  border: var(--sklearn-color-unfitted-level-1) 1pt solid;\n",
       "  color: var(--sklearn-color-unfitted-level-1);\n",
       "}\n",
       "\n",
       ".sk-estimator-doc-link.fitted,\n",
       "a:link.sk-estimator-doc-link.fitted,\n",
       "a:visited.sk-estimator-doc-link.fitted {\n",
       "  /* fitted */\n",
       "  border: var(--sklearn-color-fitted-level-1) 1pt solid;\n",
       "  color: var(--sklearn-color-fitted-level-1);\n",
       "}\n",
       "\n",
       "/* On hover */\n",
       "div.sk-estimator:hover .sk-estimator-doc-link:hover,\n",
       ".sk-estimator-doc-link:hover,\n",
       "div.sk-label-container:hover .sk-estimator-doc-link:hover,\n",
       ".sk-estimator-doc-link:hover {\n",
       "  /* unfitted */\n",
       "  background-color: var(--sklearn-color-unfitted-level-3);\n",
       "  color: var(--sklearn-color-background);\n",
       "  text-decoration: none;\n",
       "}\n",
       "\n",
       "div.sk-estimator.fitted:hover .sk-estimator-doc-link.fitted:hover,\n",
       ".sk-estimator-doc-link.fitted:hover,\n",
       "div.sk-label-container:hover .sk-estimator-doc-link.fitted:hover,\n",
       ".sk-estimator-doc-link.fitted:hover {\n",
       "  /* fitted */\n",
       "  background-color: var(--sklearn-color-fitted-level-3);\n",
       "  color: var(--sklearn-color-background);\n",
       "  text-decoration: none;\n",
       "}\n",
       "\n",
       "/* Span, style for the box shown on hovering the info icon */\n",
       ".sk-estimator-doc-link span {\n",
       "  display: none;\n",
       "  z-index: 9999;\n",
       "  position: relative;\n",
       "  font-weight: normal;\n",
       "  right: .2ex;\n",
       "  padding: .5ex;\n",
       "  margin: .5ex;\n",
       "  width: min-content;\n",
       "  min-width: 20ex;\n",
       "  max-width: 50ex;\n",
       "  color: var(--sklearn-color-text);\n",
       "  box-shadow: 2pt 2pt 4pt #999;\n",
       "  /* unfitted */\n",
       "  background: var(--sklearn-color-unfitted-level-0);\n",
       "  border: .5pt solid var(--sklearn-color-unfitted-level-3);\n",
       "}\n",
       "\n",
       ".sk-estimator-doc-link.fitted span {\n",
       "  /* fitted */\n",
       "  background: var(--sklearn-color-fitted-level-0);\n",
       "  border: var(--sklearn-color-fitted-level-3);\n",
       "}\n",
       "\n",
       ".sk-estimator-doc-link:hover span {\n",
       "  display: block;\n",
       "}\n",
       "\n",
       "/* \"?\"-specific style due to the `<a>` HTML tag */\n",
       "\n",
       "#sk-container-id-1 a.estimator_doc_link {\n",
       "  float: right;\n",
       "  font-size: 1rem;\n",
       "  line-height: 1em;\n",
       "  font-family: monospace;\n",
       "  background-color: var(--sklearn-color-background);\n",
       "  border-radius: 1rem;\n",
       "  height: 1rem;\n",
       "  width: 1rem;\n",
       "  text-decoration: none;\n",
       "  /* unfitted */\n",
       "  color: var(--sklearn-color-unfitted-level-1);\n",
       "  border: var(--sklearn-color-unfitted-level-1) 1pt solid;\n",
       "}\n",
       "\n",
       "#sk-container-id-1 a.estimator_doc_link.fitted {\n",
       "  /* fitted */\n",
       "  border: var(--sklearn-color-fitted-level-1) 1pt solid;\n",
       "  color: var(--sklearn-color-fitted-level-1);\n",
       "}\n",
       "\n",
       "/* On hover */\n",
       "#sk-container-id-1 a.estimator_doc_link:hover {\n",
       "  /* unfitted */\n",
       "  background-color: var(--sklearn-color-unfitted-level-3);\n",
       "  color: var(--sklearn-color-background);\n",
       "  text-decoration: none;\n",
       "}\n",
       "\n",
       "#sk-container-id-1 a.estimator_doc_link.fitted:hover {\n",
       "  /* fitted */\n",
       "  background-color: var(--sklearn-color-fitted-level-3);\n",
       "}\n",
       "</style><div id=\"sk-container-id-1\" class=\"sk-top-container\"><div class=\"sk-text-repr-fallback\"><pre>KMeans(max_iter=50, n_clusters=5)</pre><b>In a Jupyter environment, please rerun this cell to show the HTML representation or trust the notebook. <br />On GitHub, the HTML representation is unable to render, please try loading this page with nbviewer.org.</b></div><div class=\"sk-container\" hidden><div class=\"sk-item\"><div class=\"sk-estimator fitted sk-toggleable\"><input class=\"sk-toggleable__control sk-hidden--visually\" id=\"sk-estimator-id-1\" type=\"checkbox\" checked><label for=\"sk-estimator-id-1\" class=\"sk-toggleable__label fitted sk-toggleable__label-arrow fitted\">&nbsp;&nbsp;KMeans<a class=\"sk-estimator-doc-link fitted\" rel=\"noreferrer\" target=\"_blank\" href=\"https://scikit-learn.org/1.5/modules/generated/sklearn.cluster.KMeans.html\">?<span>Documentation for KMeans</span></a><span class=\"sk-estimator-doc-link fitted\">i<span>Fitted</span></span></label><div class=\"sk-toggleable__content fitted\"><pre>KMeans(max_iter=50, n_clusters=5)</pre></div> </div></div></div></div>"
      ],
      "text/plain": [
       "KMeans(max_iter=50, n_clusters=5)"
      ]
     },
     "execution_count": 80,
     "metadata": {},
     "output_type": "execute_result"
    }
   ],
   "source": [
    "# K- means with K=5\n",
    "from sklearn.cluster import KMeans\n",
    "model_clus5 = KMeans (n_clusters = 5, max_iter=50)  # max_iter --this is the centoired shift limit 50\n",
    "model_clus5.fit(RFM_norm1)"
   ]
  },
  {
   "cell_type": "code",
   "execution_count": 81,
   "id": "7b2d73c4-615d-42b7-b0cf-5122d155f92b",
   "metadata": {},
   "outputs": [],
   "source": [
    "# analysis of clusters formed\n",
    "RFM.index = pd.RangeIndex(len(RFM.index))"
   ]
  },
  {
   "cell_type": "code",
   "execution_count": 82,
   "id": "ec6d44f1-2a0c-4c93-a8e4-ed4a37f5a704",
   "metadata": {},
   "outputs": [],
   "source": [
    "RFM_km = pd.concat([RFM, pd.Series(model_clus5. labels_)], axis = 1)"
   ]
  },
  {
   "cell_type": "code",
   "execution_count": 84,
   "id": "77947558-68e9-4a34-adde-fde412f8d2c8",
   "metadata": {},
   "outputs": [],
   "source": [
    "RFM_km.columns = ['Customer ID','Recency','Amount','Frequency','ClusterID']"
   ]
  },
  {
   "cell_type": "code",
   "execution_count": 87,
   "id": "8bf6a290-5345-4c89-966d-eb54a8bbae64",
   "metadata": {},
   "outputs": [],
   "source": [
    "RFM_km.Recency = RFM_km.Recency.dt.days"
   ]
  },
  {
   "cell_type": "code",
   "execution_count": 88,
   "id": "9d948384-64e4-43aa-b455-632fea0e73aa",
   "metadata": {},
   "outputs": [],
   "source": [
    "km_clusters_amount = pd.DataFrame(RFM_km.groupby([\"ClusterID\"]).Amount.mean())"
   ]
  },
  {
   "cell_type": "code",
   "execution_count": 89,
   "id": "f6f9939b-fb09-4f41-8271-0dd483e063f6",
   "metadata": {},
   "outputs": [],
   "source": [
    "km_clusters_Frequency = pd.DataFrame(RFM_km.groupby([\"ClusterID\"]).Frequency.mean())\n"
   ]
  },
  {
   "cell_type": "code",
   "execution_count": 94,
   "id": "52934886-9a1b-415d-aa9e-dd1343914933",
   "metadata": {},
   "outputs": [],
   "source": [
    "km_clusters_Recency = pd.DataFrame(RFM_km.groupby([\"ClusterID\"]).Recency.mean())"
   ]
  },
  {
   "cell_type": "code",
   "execution_count": 96,
   "id": "0bec2598-4ae0-4d87-85a1-0c7e92d72f48",
   "metadata": {},
   "outputs": [
    {
     "data": {
      "text/html": [
       "<div>\n",
       "<style scoped>\n",
       "    .dataframe tbody tr th:only-of-type {\n",
       "        vertical-align: middle;\n",
       "    }\n",
       "\n",
       "    .dataframe tbody tr th {\n",
       "        vertical-align: top;\n",
       "    }\n",
       "\n",
       "    .dataframe thead th {\n",
       "        text-align: right;\n",
       "    }\n",
       "</style>\n",
       "<table border=\"1\" class=\"dataframe\">\n",
       "  <thead>\n",
       "    <tr style=\"text-align: right;\">\n",
       "      <th></th>\n",
       "      <th>ClusterID</th>\n",
       "      <th>Amount_mean</th>\n",
       "      <th>Frequency_mean</th>\n",
       "      <th>Recency_mean</th>\n",
       "    </tr>\n",
       "  </thead>\n",
       "  <tbody>\n",
       "    <tr>\n",
       "      <th>0</th>\n",
       "      <td>0</td>\n",
       "      <td>394.212161</td>\n",
       "      <td>25.740819</td>\n",
       "      <td>52.802260</td>\n",
       "    </tr>\n",
       "    <tr>\n",
       "      <th>1</th>\n",
       "      <td>1</td>\n",
       "      <td>818.462491</td>\n",
       "      <td>120.430034</td>\n",
       "      <td>45.174061</td>\n",
       "    </tr>\n",
       "    <tr>\n",
       "      <th>2</th>\n",
       "      <td>2</td>\n",
       "      <td>339.003475</td>\n",
       "      <td>22.865273</td>\n",
       "      <td>233.351916</td>\n",
       "    </tr>\n",
       "    <tr>\n",
       "      <th>3</th>\n",
       "      <td>3</td>\n",
       "      <td>1379.095771</td>\n",
       "      <td>63.004702</td>\n",
       "      <td>48.293103</td>\n",
       "    </tr>\n",
       "    <tr>\n",
       "      <th>4</th>\n",
       "      <td>4</td>\n",
       "      <td>2502.347011</td>\n",
       "      <td>127.902778</td>\n",
       "      <td>38.650000</td>\n",
       "    </tr>\n",
       "  </tbody>\n",
       "</table>\n",
       "</div>"
      ],
      "text/plain": [
       "   ClusterID  Amount_mean  Frequency_mean  Recency_mean\n",
       "0          0   394.212161       25.740819     52.802260\n",
       "1          1   818.462491      120.430034     45.174061\n",
       "2          2   339.003475       22.865273    233.351916\n",
       "3          3  1379.095771       63.004702     48.293103\n",
       "4          4  2502.347011      127.902778     38.650000"
      ]
     },
     "execution_count": 96,
     "metadata": {},
     "output_type": "execute_result"
    }
   ],
   "source": [
    "df = pd.concat([pd.Series([0,1,2,3,4]), km_clusters_amount, km_clusters_Frequency, km_clusters_Recency], axis=1)\n",
    "df.columns = [\"ClusterID\", \"Amount_mean\", \"Frequency_mean\", \"Recency_mean\"]\n",
    "df.head()"
   ]
  },
  {
   "cell_type": "code",
   "execution_count": 98,
   "id": "7e8f5f1e-78d7-48da-829f-860adc825496",
   "metadata": {},
   "outputs": [
    {
     "data": {
      "text/plain": [
       "<Axes: xlabel='ClusterID', ylabel='Amount_mean'>"
      ]
     },
     "execution_count": 98,
     "metadata": {},
     "output_type": "execute_result"
    },
    {
     "data": {
      "image/png": "[encoded data removed]",
      "text/plain": [
       "<Figure size 640x480 with 1 Axes>"
      ]
     },
     "metadata": {},
     "output_type": "display_data"
    }
   ],
   "source": [
    "sns.barplot(x=df.ClusterID, y=df.Amount_mean)"
   ]
  },
  {
   "cell_type": "code",
   "execution_count": 100,
   "id": "6c1b1e8d-149e-4ce4-967b-4315c1b303f3",
   "metadata": {},
   "outputs": [
    {
     "data": {
      "text/plain": [
       "<Axes: xlabel='ClusterID', ylabel='Frequency_mean'>"
      ]
     },
     "execution_count": 100,
     "metadata": {},
     "output_type": "execute_result"
    },
    {
     "data": {
      "image/png": "[encoded data removed]",
      "text/plain": [
       "<Figure size 640x480 with 1 Axes>"
      ]
     },
     "metadata": {},
     "output_type": "display_data"
    }
   ],
   "source": [
    "sns.barplot(x=df.ClusterID, y =df.Frequency_mean)"
   ]
  },
  {
   "cell_type": "code",
   "execution_count": 102,
   "id": "4bf6203c-93bf-474b-8c49-28c7f9bee416",
   "metadata": {},
   "outputs": [
    {
     "data": {
      "text/plain": [
       "<Axes: xlabel='ClusterID', ylabel='Recency_mean'>"
      ]
     },
     "execution_count": 102,
     "metadata": {},
     "output_type": "execute_result"
    },
    {
     "data": {
      "image/png": "[encoded data removed]",
      "text/plain": [
       "<Figure size 640x480 with 1 Axes>"
      ]
     },
     "metadata": {},
     "output_type": "display_data"
    }
   ],
   "source": [
    "sns.barplot(x=df.ClusterID, y =df.Recency_mean)"
   ]
  },
  {
   "cell_type": "code",
   "execution_count": 104,
   "id": "a2d8e977-e57d-42a9-9fb4-fbb4ac8eb176",
   "metadata": {},
   "outputs": [],
   "source": [
    "\n",
    "from sklearn.metrics import silhouette_score\n",
    "sse_ = []\n",
    "for k in range(2, 15):\n",
    "    kmeans = KMeans(n_clusters=k).fit(RFM_norm1)\n",
    "    sse_.append([k, silhouette_score(RFM_norm1, kmeans.labels_)])"
   ]
  },
  {
   "cell_type": "code",
   "execution_count": 106,
   "id": "e7f34f5d-3882-4830-b27d-8024a26ac2ae",
   "metadata": {},
   "outputs": [
    {
     "data": {
      "text/plain": [
       "[<matplotlib.lines.Line2D at 0x245cd64d4c0>]"
      ]
     },
     "execution_count": 106,
     "metadata": {},
     "output_type": "execute_result"
    },
    {
     "data": {
      "image/png": "[encoded data removed]",
      "text/plain": [
       "<Figure size 640x480 with 1 Axes>"
      ]
     },
     "metadata": {},
     "output_type": "display_data"
    }
   ],
   "source": [
    "plt.plot(pd.DataFrame(sse_)[0], pd.DataFrame(sse_)[1])"
   ]
  },
  {
   "cell_type": "code",
   "execution_count": 114,
   "id": "f9d883cc-737c-4df7-8d7c-8cbc08be3a97",
   "metadata": {},
   "outputs": [],
   "source": [
    "import numpy as np \n",
    "import matplotlib.pyplot as plt\n",
    "from sklearn.cluster import KMeans\n",
    "\n",
    "# Calculation  WCSS for differnet values of k \n",
    "WCSS = []\n",
    "for k in range(1, 11):\n",
    "    kmeans = KMeans(n_clusters = k, init = 'k-means++' , random_state = 42)\n",
    "    kmeans .fit(RFM_norm1)\n",
    "    WCSS.append(kmeans.inertia_) # Inertia is the same as WCSS"
   ]
  },
  {
   "cell_type": "code",
   "execution_count": 116,
   "id": "570b039c-4121-4464-ba14-2813cda13b70",
   "metadata": {},
   "outputs": [
    {
     "data": {
      "image/png": "[encoded data removed]",
      "text/plain": [
       "<Figure size 800x500 with 1 Axes>"
      ]
     },
     "metadata": {},
     "output_type": "display_data"
    }
   ],
   "source": [
    "# Plotting the Elbow Curve\n",
    "plt.figure(figsize=(8, 5))\n",
    "plt.plot(range(1, 11), WCSS, marker='o', linestyle='--')\n",
    "plt.title('Elbow Curve for Optimal k')\n",
    "plt.xlabel('Number of Clusters (k)')\n",
    "plt.ylabel('WCSS (Within-Cluster Sum of Squares)')\n",
    "plt.grid(True)\n",
    "plt.show()"
   ]
  },
  {
   "cell_type": "code",
   "execution_count": null,
   "id": "552468f2-0ef0-418e-b457-be6b40df4c6b",
   "metadata": {},
   "outputs": [],
   "source": []
  },
  {
   "cell_type": "code",
   "execution_count": null,
   "id": "f68ccfa8-8cbc-4f39-9b3a-e786531da049",
   "metadata": {},
   "outputs": [],
   "source": []
  }
 ],
 "metadata": {
  "kernelspec": {
   "display_name": "Python 3 (ipykernel)",
   "language": "python",
   "name": "python3"
  },
  "language_info": {
   "codemirror_mode": {
    "name": "ipython",
    "version": 3
   },
   "file_extension": ".py",
   "mimetype": "text/x-python",
   "name": "python",
   "nbconvert_exporter": "python",
   "pygments_lexer": "ipython3",
   "version": "3.12.7"
  }
 },
 "nbformat": 4,
 "nbformat_minor": 5
}
